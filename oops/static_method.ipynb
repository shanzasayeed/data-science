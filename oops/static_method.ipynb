{
 "cells": [
  {
   "cell_type": "markdown",
   "metadata": {},
   "source": [
    "In static method you don't need to create object of class to call function like init.Also,you don't need to bind to class like in class method"
   ]
  },
  {
   "cell_type": "code",
   "execution_count": 46,
   "metadata": {},
   "outputs": [],
   "source": [
    "class pwskills:\n",
    "    def student_details(self,name,mail_id,number):\n",
    "        print(name,mail_id,number)"
   ]
  },
  {
   "cell_type": "code",
   "execution_count": 47,
   "metadata": {},
   "outputs": [],
   "source": [
    "pw=pwskills()"
   ]
  },
  {
   "cell_type": "code",
   "execution_count": 48,
   "metadata": {},
   "outputs": [
    {
     "name": "stdout",
     "output_type": "stream",
     "text": [
      "shanza shanza@gmail.com 9545394672\n"
     ]
    }
   ],
   "source": [
    "pw.student_details('shanza','shanza@gmail.com','9545394672')"
   ]
  },
  {
   "cell_type": "code",
   "execution_count": 49,
   "metadata": {},
   "outputs": [],
   "source": [
    "class pwskills1:\n",
    "    def student_details(self,name,mail_id,number):\n",
    "        print(name,mail_id,number)\n",
    "    @staticmethod\n",
    "    def mentor_class(list_of_mentor):\n",
    "        print(list_of_mentor)      "
   ]
  },
  {
   "cell_type": "markdown",
   "metadata": {},
   "source": [
    "To access student_details,we need to create object.....but to access mentor_class, we do not need to create object or bind it with class using self"
   ]
  },
  {
   "cell_type": "code",
   "execution_count": 50,
   "metadata": {},
   "outputs": [
    {
     "name": "stdout",
     "output_type": "stream",
     "text": [
      "['krish naik', 'sudhanshu']\n"
     ]
    }
   ],
   "source": [
    "#directly accessed\n",
    "pwskills1.mentor_class(['krish naik','sudhanshu'])"
   ]
  },
  {
   "cell_type": "code",
   "execution_count": 51,
   "metadata": {},
   "outputs": [
    {
     "ename": "TypeError",
     "evalue": "pwskills1.student_details() missing 1 required positional argument: 'number'",
     "output_type": "error",
     "traceback": [
      "\u001b[1;31m---------------------------------------------------------------------------\u001b[0m",
      "\u001b[1;31mTypeError\u001b[0m                                 Traceback (most recent call last)",
      "Cell \u001b[1;32mIn[51], line 2\u001b[0m\n\u001b[0;32m      1\u001b[0m \u001b[38;5;66;03m#cannot be accessed without creating object\u001b[39;00m\n\u001b[1;32m----> 2\u001b[0m \u001b[43mpwskills1\u001b[49m\u001b[38;5;241;43m.\u001b[39;49m\u001b[43mstudent_details\u001b[49m\u001b[43m(\u001b[49m\u001b[38;5;124;43m'\u001b[39;49m\u001b[38;5;124;43mshan\u001b[39;49m\u001b[38;5;124;43m'\u001b[39;49m\u001b[43m,\u001b[49m\u001b[38;5;124;43m'\u001b[39;49m\u001b[38;5;124;43mshan@gmail.com\u001b[39;49m\u001b[38;5;124;43m'\u001b[39;49m\u001b[43m,\u001b[49m\u001b[38;5;124;43m'\u001b[39;49m\u001b[38;5;124;43m7654398721\u001b[39;49m\u001b[38;5;124;43m'\u001b[39;49m\u001b[43m)\u001b[49m\n",
      "\u001b[1;31mTypeError\u001b[0m: pwskills1.student_details() missing 1 required positional argument: 'number'"
     ]
    }
   ],
   "source": [
    "#cannot be accessed without creating object\n",
    "pwskills1.student_details('shan','shan@gmail.com','7654398721')"
   ]
  },
  {
   "cell_type": "code",
   "execution_count": null,
   "metadata": {},
   "outputs": [],
   "source": [
    "pw1=pwskills1()"
   ]
  },
  {
   "cell_type": "code",
   "execution_count": null,
   "metadata": {},
   "outputs": [
    {
     "name": "stdout",
     "output_type": "stream",
     "text": [
      "shan shan@gmail.com 7654398721\n"
     ]
    }
   ],
   "source": [
    "#accessed after creating object \n",
    "pw1.student_details('shan','shan@gmail.com','7654398721')"
   ]
  },
  {
   "cell_type": "markdown",
   "metadata": {},
   "source": [
    "When we create one object one copy is created.Another copy is created for another object.We can create as many objects "
   ]
  },
  {
   "cell_type": "code",
   "execution_count": null,
   "metadata": {},
   "outputs": [],
   "source": [
    "#one copy is created that will work only for stu1\n",
    "stu1=pwskills1()"
   ]
  },
  {
   "cell_type": "code",
   "execution_count": null,
   "metadata": {},
   "outputs": [],
   "source": [
    "#another copy is created that will work only for stu2\n",
    "stu2=pwskills1()"
   ]
  },
  {
   "cell_type": "code",
   "execution_count": null,
   "metadata": {},
   "outputs": [],
   "source": [
    "stu3=pwskills1()"
   ]
  },
  {
   "cell_type": "markdown",
   "metadata": {},
   "source": [
    "But,when we don't want to create these many objects....we can use static method"
   ]
  },
  {
   "cell_type": "code",
   "execution_count": null,
   "metadata": {},
   "outputs": [
    {
     "name": "stdout",
     "output_type": "stream",
     "text": [
      "['krish', 'sudhanshu']\n"
     ]
    }
   ],
   "source": [
    "stu1.mentor_class(['krish','sudhanshu'])"
   ]
  },
  {
   "cell_type": "markdown",
   "metadata": {},
   "source": [
    "Since mentors are same for a class... it is not preferrable to create different objects for each student....Therefore, it is better to create a static method for mentors. This helps in deacreasing memory consumption"
   ]
  },
  {
   "cell_type": "markdown",
   "metadata": {},
   "source": [
    "Accessing static method in other methods in class"
   ]
  },
  {
   "cell_type": "code",
   "execution_count": null,
   "metadata": {},
   "outputs": [],
   "source": [
    "class pwskills2:\n",
    "    def student_details(self,name,mail_id,number):\n",
    "        print(name,mail_id,number)\n",
    "    @staticmethod\n",
    "    def mentor_mail(list_of_mail):\n",
    "        print(list_of_mail)      \n",
    "\n",
    "    @staticmethod\n",
    "    def mentor_class(list_of_mentor):\n",
    "        #accessing one static method in another static method\n",
    "        pwskills2.mentor_mail(['sudh@gmail.com','krish@gmail.com'])\n",
    "        print(list_of_mentor)  \n",
    "    @classmethod\n",
    "    def class_name(cls):   #we have binded class_name method with class\n",
    "        #accessing static method in class method\n",
    "        cls.mentor_class(['sudh','krish naik'])\n",
    "\n",
    "\n",
    "    def mentor(self,mentor_list):\n",
    "        print(mentor_list) \n",
    "        #accessing static method in instance method\n",
    "        self.mentor_class(['krishh','sudhh'])\n",
    "        \n",
    "\n",
    "       "
   ]
  },
  {
   "cell_type": "code",
   "execution_count": null,
   "metadata": {},
   "outputs": [
    {
     "name": "stdout",
     "output_type": "stream",
     "text": [
      "['sudh', 'krish naik']\n"
     ]
    }
   ],
   "source": [
    "#accessing static method in class method\n",
    "pwskills2.class_name()"
   ]
  },
  {
   "cell_type": "code",
   "execution_count": null,
   "metadata": {},
   "outputs": [
    {
     "name": "stdout",
     "output_type": "stream",
     "text": [
      "['sudh@gmail.com', 'krish@gmail.com']\n",
      "['sudh', 'krish']\n"
     ]
    }
   ],
   "source": [
    "#accessing one static method in another static method\n",
    "pwskills2.mentor_class(['sudh','krish'])\n"
   ]
  },
  {
   "cell_type": "code",
   "execution_count": null,
   "metadata": {},
   "outputs": [],
   "source": [
    "#accessing static method in instance method\n",
    "pw3=pwskills2()\n",
    "\n"
   ]
  },
  {
   "cell_type": "code",
   "execution_count": null,
   "metadata": {},
   "outputs": [
    {
     "name": "stdout",
     "output_type": "stream",
     "text": [
      "['sudhh', 'krishh']\n",
      "['sudh@gmail.com', 'krish@gmail.com']\n",
      "['krishh', 'sudhh']\n"
     ]
    }
   ],
   "source": [
    "pw3.mentor(['sudhh','krishh'])"
   ]
  }
 ],
 "metadata": {
  "kernelspec": {
   "display_name": "Python 3",
   "language": "python",
   "name": "python3"
  },
  "language_info": {
   "codemirror_mode": {
    "name": "ipython",
    "version": 3
   },
   "file_extension": ".py",
   "mimetype": "text/x-python",
   "name": "python",
   "nbconvert_exporter": "python",
   "pygments_lexer": "ipython3",
   "version": "3.10.10"
  }
 },
 "nbformat": 4,
 "nbformat_minor": 2
}
